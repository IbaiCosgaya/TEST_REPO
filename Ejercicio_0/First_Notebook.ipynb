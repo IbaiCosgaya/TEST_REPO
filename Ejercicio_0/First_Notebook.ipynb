{
 "cells": [
  {
   "cell_type": "code",
   "execution_count": 1,
   "id": "ff0bf607-9482-4dd3-9b09-0f41b957aaa2",
   "metadata": {},
   "outputs": [
    {
     "name": "stdout",
     "output_type": "stream",
     "text": [
      "Hello, my name is IbaiCosgaya\n"
     ]
    }
   ],
   "source": [
    "name = \"Ibai\"\n",
    "surname = \"Cosgaya\"\n",
    "\n",
    "print(f\"Hello, my name is {name}{surname}\")"
   ]
  },
  {
   "cell_type": "code",
   "execution_count": null,
   "id": "59d8a99e-e0e5-4f78-8599-5a6cda92f79c",
   "metadata": {},
   "outputs": [],
   "source": []
  }
 ],
 "metadata": {
  "kernelspec": {
   "display_name": "Python 3 (ipykernel)",
   "language": "python",
   "name": "python3"
  },
  "language_info": {
   "codemirror_mode": {
    "name": "ipython",
    "version": 3
   },
   "file_extension": ".py",
   "mimetype": "text/x-python",
   "name": "python",
   "nbconvert_exporter": "python",
   "pygments_lexer": "ipython3",
   "version": "3.13.1"
  }
 },
 "nbformat": 4,
 "nbformat_minor": 5
}
