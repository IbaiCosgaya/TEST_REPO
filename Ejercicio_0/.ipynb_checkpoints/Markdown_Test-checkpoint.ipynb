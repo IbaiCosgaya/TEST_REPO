{
 "cells": [
  {
   "cell_type": "markdown",
   "id": "62f33e71-8dfa-47dc-90c2-999733bff01a",
   "metadata": {},
   "source": [
    "# Mis primeros pasos con Markdown...\n",
    "...son muy buenos"
   ]
  },
  {
   "cell_type": "code",
   "execution_count": 1,
   "id": "8b9860d5-aa98-4d19-96b2-c1abb96b99c8",
   "metadata": {},
   "outputs": [],
   "source": [
    "# comentario Python"
   ]
  },
  {
   "cell_type": "markdown",
   "id": "0333b3a0-9231-4968-939d-6111abf62520",
   "metadata": {},
   "source": [
    "# **Cabecera 1**\n",
    "## *Cabecera 2*\n",
    "### ***Cabecera 3***"
   ]
  },
  {
   "cell_type": "markdown",
   "id": "34c3d139-cbcc-4fae-9ea7-378e06bbcf78",
   "metadata": {},
   "source": [
    "> Python\n",
    ">> Python mola"
   ]
  },
  {
   "cell_type": "code",
   "execution_count": null,
   "id": "8d434d66-afb9-4c26-8ffd-4979e5afb39c",
   "metadata": {},
   "outputs": [],
   "source": []
  }
 ],
 "metadata": {
  "kernelspec": {
   "display_name": "Python 3 (ipykernel)",
   "language": "python",
   "name": "python3"
  },
  "language_info": {
   "codemirror_mode": {
    "name": "ipython",
    "version": 3
   },
   "file_extension": ".py",
   "mimetype": "text/x-python",
   "name": "python",
   "nbconvert_exporter": "python",
   "pygments_lexer": "ipython3",
   "version": "3.13.1"
  }
 },
 "nbformat": 4,
 "nbformat_minor": 5
}
