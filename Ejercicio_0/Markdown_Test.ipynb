{
 "cells": [
  {
   "cell_type": "markdown",
   "id": "62f33e71-8dfa-47dc-90c2-999733bff01a",
   "metadata": {},
   "source": [
    "# Mis primeros pasos con Markdown...\n",
    "...son muy buenos"
   ]
  },
  {
   "cell_type": "code",
   "execution_count": 2,
   "id": "8b9860d5-aa98-4d19-96b2-c1abb96b99c8",
   "metadata": {},
   "outputs": [],
   "source": [
    "# comentario Python"
   ]
  },
  {
   "cell_type": "markdown",
   "id": "0333b3a0-9231-4968-939d-6111abf62520",
   "metadata": {},
   "source": [
    "# **Cabecera 1**\n",
    "## *Cabecera 2*\n",
    "### ***Cabecera 3***"
   ]
  },
  {
   "cell_type": "markdown",
   "id": "34c3d139-cbcc-4fae-9ea7-378e06bbcf78",
   "metadata": {},
   "source": [
    "> Python\n",
    ">> Python mola"
   ]
  },
  {
   "cell_type": "markdown",
   "id": "c0e996f5-c967-4248-8624-beb6eb5be4e2",
   "metadata": {},
   "source": [
    "Tengo ganas  \n",
    "de empezar"
   ]
  },
  {
   "cell_type": "markdown",
   "id": "23b0e91e-9ea0-407f-be45-0f46492acbea",
   "metadata": {},
   "source": [
    "1. Jamon\n",
    "2. Croquetas\n",
    "3. Chorizo"
   ]
  },
  {
   "cell_type": "markdown",
   "id": "1d293711-5520-4378-8311-59b6f3574aec",
   "metadata": {},
   "source": [
    "* Jamon\n",
    "* Croquetas\n",
    "* Chrorizo"
   ]
  },
  {
   "cell_type": "markdown",
   "id": "e45d0740-8b75-4969-9fcd-a3af4f2274fc",
   "metadata": {},
   "source": [
    "```Python\n",
    "var = 12\n",
    "```"
   ]
  },
  {
   "cell_type": "markdown",
   "id": "eaf78ae6-1e66-47ce-93f0-5a28e1a34bd0",
   "metadata": {},
   "source": [
    "***\n",
    "---"
   ]
  },
  {
   "cell_type": "markdown",
   "id": "e6c7e6a3-8902-49d8-9928-c5b47c3d8630",
   "metadata": {},
   "source": [
    "Crear enlaces `externos` `[mi linkedin] (https://www.linkedin.com/in/ibai-cosgaya-94a18411a/)´"
   ]
  },
  {
   "cell_type": "markdown",
   "id": "58b61b81-ff7d-46d2-a612-cae482899471",
   "metadata": {},
   "source": [
    "Crear enlaces `internos` [enlace] (##-Mis-primeros-pasos-con-Markdown...)"
   ]
  },
  {
   "cell_type": "code",
   "execution_count": null,
   "id": "5d1b8302-2d6c-4590-ac9b-a5f448671e65",
   "metadata": {},
   "outputs": [],
   "source": []
  },
  {
   "cell_type": "code",
   "execution_count": null,
   "id": "323df6dd-9fe4-4c60-bc60-ca754e317d52",
   "metadata": {},
   "outputs": [],
   "source": []
  }
 ],
 "metadata": {
  "kernelspec": {
   "display_name": "Python 3 (ipykernel)",
   "language": "python",
   "name": "python3"
  },
  "language_info": {
   "codemirror_mode": {
    "name": "ipython",
    "version": 3
   },
   "file_extension": ".py",
   "mimetype": "text/x-python",
   "name": "python",
   "nbconvert_exporter": "python",
   "pygments_lexer": "ipython3",
   "version": "3.13.1"
  }
 },
 "nbformat": 4,
 "nbformat_minor": 5
}
